{
 "cells": [
  {
   "cell_type": "code",
   "execution_count": 1,
   "id": "adda6524",
   "metadata": {},
   "outputs": [],
   "source": [
    "import os\n",
    "import matplotlib.pyplot as plt\n",
    "os.makedirs(r'/Users/anker/Desktop/上机',exist_ok=True)\n",
    "os.chdir(r'/Users/anker/Desktop/上机')\n",
    "import json"
   ]
  },
  {
   "cell_type": "code",
   "execution_count": 2,
   "id": "1e22e37d",
   "metadata": {},
   "outputs": [],
   "source": [
    "class GroupAA:\n",
    "    def __init__(self):\n",
    "        self.data_file = 'group_data.json'\n",
    "        try:\n",
    "            with open(self.data_file, 'r') as f:\n",
    "                self.participants = json.load(f)\n",
    "        except FileNotFoundError:\n",
    "            self.participants = {}\n",
    "    def add_participants(self, name):\n",
    "        self.participants[name] = 0.0\n",
    "        self.save_data()\n",
    "    def add_expense(self, payer, amount):\n",
    "        share = amount/len(self.participants)\n",
    "        for p in self.participants:\n",
    "            self.participants[p] -= share\n",
    "        self.participants[payer] += amount\n",
    "        self.save_data()\n",
    "\n",
    "    def show_balances(self):\n",
    "        print('present balance:')\n",
    "        for name, balance in self.participants.items():\n",
    "            print(f'{name}:{balance:.2f}')"
   ]
  },
  {
   "cell_type": "code",
   "execution_count": 6,
   "id": "be22e6e6",
   "metadata": {},
   "outputs": [
    {
     "name": "stdout",
     "output_type": "stream",
     "text": [
      "present balance:\n",
      "Alice:-5.00\n",
      "Bob:5.00\n"
     ]
    },
    {
     "data": {
      "image/png": "[encoded data removed]",
      "text/plain": [
       "<Figure size 640x480 with 1 Axes>"
      ]
     },
     "metadata": {},
     "output_type": "display_data"
    },
    {
     "data": {
      "text/plain": [
       "<Figure size 640x480 with 0 Axes>"
      ]
     },
     "metadata": {},
     "output_type": "display_data"
    }
   ],
   "source": [
    "group = GroupAA()\n",
    "group.add_participants('Alice')\n",
    "group.add_participants('Bob')\n",
    "group.add_expense('Bob',10)\n",
    "group.show_balances()\n",
    "\n",
    "names = list(group.participants.keys())\n",
    "balance = list(group.participants.values())\n",
    "\n",
    "plt.bar(names, balance)\n",
    "plt.show()\n",
    "plt.savefig('AA_balance.png', dpi=100)"
   ]
  }
 ],
 "metadata": {
  "kernelspec": {
   "display_name": "base",
   "language": "python",
   "name": "python3"
  },
  "language_info": {
   "codemirror_mode": {
    "name": "ipython",
    "version": 3
   },
   "file_extension": ".py",
   "mimetype": "text/x-python",
   "name": "python",
   "nbconvert_exporter": "python",
   "pygments_lexer": "ipython3",
   "version": "3.12.7"
  }
 },
 "nbformat": 4,
 "nbformat_minor": 5
}
